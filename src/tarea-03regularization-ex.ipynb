{
 "cells": [
  {
   "cell_type": "markdown",
   "metadata": {},
   "source": [
    "# Regularización"
   ]
  },
  {
   "cell_type": "code",
   "execution_count": 2,
   "metadata": {},
   "outputs": [],
   "source": [
    "import numpy as np\n",
    "import matplotlib.pyplot as plt\n",
    "\n",
    "from sklearn.linear_model import Ridge\n",
    "from sklearn.preprocessing import PolynomialFeatures"
   ]
  },
  {
   "cell_type": "code",
   "execution_count": 3,
   "metadata": {},
   "outputs": [
    {
     "data": {
      "image/png": "[encoded data removed]",
      "text/plain": [
       "<Figure size 432x288 with 1 Axes>"
      ]
     },
     "metadata": {
      "needs_background": "light"
     },
     "output_type": "display_data"
    }
   ],
   "source": [
    "X = np.arange(0, 10, .5).reshape(20, 1)\n",
    "y = X * np.sin(X)\n",
    "plt.scatter(X, y)\n",
    "plt.show()"
   ]
  },
  {
   "cell_type": "markdown",
   "metadata": {},
   "source": [
    "# Instrucciones:\n",
    "\n",
    "Completar el código para que:\n",
    "- Calcule los vectores extendidos en \"X_ext\" usando PolynomialFeatures\n",
    "- Entrenar Ridge(alpha=0.0, normalize=True) con X_ext y guardar las predicciones en \"pred\""
   ]
  },
  {
   "cell_type": "code",
   "execution_count": 3,
   "metadata": {},
   "outputs": [
    {
     "ename": "SyntaxError",
     "evalue": "invalid syntax (<ipython-input-3-e6731adbd7ec>, line 10)",
     "output_type": "error",
     "traceback": [
      "\u001b[0;36m  File \u001b[0;32m\"<ipython-input-3-e6731adbd7ec>\"\u001b[0;36m, line \u001b[0;32m10\u001b[0m\n\u001b[0;31m    pred = # predicciones\u001b[0m\n\u001b[0m                         ^\u001b[0m\n\u001b[0;31mSyntaxError\u001b[0m\u001b[0;31m:\u001b[0m invalid syntax\n"
     ]
    }
   ],
   "source": [
    "orders = [2, 3, 4, 5, 6]\n",
    "colors = [\"r\", \"g\", \"y\", \"b\", \"m\"]\n",
    "plt.figure(figsize=(20,10))\n",
    "plt.scatter(X, y)\n",
    "for i, o in enumerate(orders):\n",
    "    # Código aquí\n",
    "    \n",
    "    \n",
    "    \n",
    "    pred = # predicciones\n",
    "    plt.plot(X, pred, c=colors[i], label=\"Grado: %d\" %o)\n",
    "plt.legend(loc='lower left')\n",
    "plt.show()"
   ]
  },
  {
   "cell_type": "markdown",
   "metadata": {},
   "source": [
    "# Instrucciones:\n",
    "\n",
    "- Elegir un grado de polinomio de la gráfica anterior que aproxime bien los datos.\n",
    "- Extender los vectores de características a el grado elegido y guardar en X_ext.\n",
    "\n",
    "Dentro del for\n",
    "- Entrenar Ridge con regularización alpha=a\n",
    "- Poner las predicciones en \"pred\""
   ]
  },
  {
   "cell_type": "code",
   "execution_count": 4,
   "metadata": {},
   "outputs": [
    {
     "ename": "SyntaxError",
     "evalue": "invalid syntax (<ipython-input-4-b4f0d9ad956d>, line 2)",
     "output_type": "error",
     "traceback": [
      "\u001b[0;36m  File \u001b[0;32m\"<ipython-input-4-b4f0d9ad956d>\"\u001b[0;36m, line \u001b[0;32m2\u001b[0m\n\u001b[0;31m    orden = # poner order elegido\u001b[0m\n\u001b[0m                                 ^\u001b[0m\n\u001b[0;31mSyntaxError\u001b[0m\u001b[0;31m:\u001b[0m invalid syntax\n"
     ]
    }
   ],
   "source": [
    "alpha = [0, .001, .001, .1]\n",
    "orden = # poner order elegido\n",
    "X_ext = # vectores extendidos\n",
    "plt.figure(figsize=(20,10))\n",
    "plt.scatter(X, y)\n",
    "for i, a in enumerate(alpha):\n",
    "    # código aquí\n",
    "    \n",
    "    \n",
    "    \n",
    "    pred = # predicciones\n",
    "    plt.plot(X, pred, c=colors[i], label=\"alpha: %f\" %a)\n",
    "plt.legend(loc='lower left')\n",
    "plt.show()"
   ]
  }
 ],
 "metadata": {
  "kernelspec": {
   "display_name": "Python 3",
   "language": "python",
   "name": "python3"
  },
  "language_info": {
   "codemirror_mode": {
    "name": "ipython",
    "version": 3
   },
   "file_extension": ".py",
   "mimetype": "text/x-python",
   "name": "python",
   "nbconvert_exporter": "python",
   "pygments_lexer": "ipython3",
   "version": "3.7.6"
  }
 },
 "nbformat": 4,
 "nbformat_minor": 4
}
